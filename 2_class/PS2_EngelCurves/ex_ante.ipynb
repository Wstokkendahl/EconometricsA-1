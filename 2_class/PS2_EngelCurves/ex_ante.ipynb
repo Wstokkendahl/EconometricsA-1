{
 "cells": [
  {
   "cell_type": "markdown",
   "metadata": {},
   "source": [
    "# Problem Set 2\n"
   ]
  },
  {
   "cell_type": "markdown",
   "metadata": {},
   "source": [
    "## An econometric analysis of Engel curves for U.S. households\n",
    "In problem set 1, we undertook the initial analysis of the data and discussed regression models of Engel curves for food, clothes and alcohol. The objective of this week’s problem set is to estimate a simple regression model of the Engel curve using the OLS estimator.\n",
    "\n",
    "The starting point is a regression model with one explanatory variable. Specifically, let us consider the case where the dependent variable represents food expenditures, while the explanatory variable is total expenditure:\n",
    "\n",
    "\\begin{align}\n",
    "\\text{xfath}_i = \\beta_0 + \\beta_1 \\text{xtot}_i + u_i \\tag{1}\n",
    "\\end{align}\n",
    "\n",
    "In the consumption literature, it is common to use expenditure share, $\\text{xfath}/\\text{xtot}$, as the dependent variable instead of using total food expenditures. Furthermore, the logarithm of total expenditure deflated by an individual ”consumer price index” is often used as the explanatory variable. In this case, the regression model is:\n",
    "\n",
    "\\begin{align}\n",
    "\\frac{\\text{xfath}_i}{\\text{xtot}_i} = \\delta_0 + \\delta_1 \\log \\left(\\frac{\\text{xtot}_i}{\\text{price}_i}\n",
    "\\right) + v_i \\tag{2}\n",
    "\\end{align}"
   ]
  },
  {
   "cell_type": "markdown",
   "metadata": {},
   "source": [
    "\n",
    "## Group work: Discuss model (2)"
   ]
  },
  {
   "cell_type": "markdown",
   "metadata": {},
   "source": [
    "### Question 1\n",
    "**Task:** What is the interpretation of $\\delta_1$ when $%\n",
    "\\delta_1>0$ and $\\delta_1<0$? \n",
    "(Hint: luxury versus necessity goods)\n",
    "\n",
    "**Your answer:**"
   ]
  },
  {
   "cell_type": "markdown",
   "metadata": {},
   "source": [
    "$\\delta_1$ er positiv når man køber meget luxury og negativ hvis man udelukkende køber de nødvendige vare. Dette skyldes at hvis man køber luxury food bruger man en større andel af sit råderum på fath (mad i hjemmet)"
   ]
  },
  {
   "cell_type": "markdown",
   "metadata": {},
   "source": [
    "### Question 2\n",
    "**Task:** What is likely to be included in the error term in model (2)?\n",
    "(Hint: What other variables may influence the dependent variable, $\\text{xfath}/\\text{xtot}$, besides the explanatory variable?)\n",
    "\n",
    "**Your answer:**"
   ]
  },
  {
   "cell_type": "markdown",
   "metadata": {},
   "source": [
    "Variablen \"rest\" kan være i fejlledet da hvis man går meget på restaurent vil man ikke bruge ligeså mange penge på mad i hjemmet."
   ]
  },
  {
   "cell_type": "markdown",
   "metadata": {},
   "source": [
    "\n",
    "## Python exercises"
   ]
  },
  {
   "cell_type": "markdown",
   "metadata": {},
   "source": [
    "### Exercise 1: Estimate model (1)\n",
    "In this exercise, we are going to estimate model (1) **for men only** using OLS:\n",
    "\\begin{align}\n",
    "\\text{xfath}_i = \\beta_0 + \\beta_1 \\text{xtot}_i + u_i \\tag{1}\n",
    "\\end{align}\n",
    "\n",
    "To do this, revisit the lecture notebook and use the `statsmodels` approach described there.\n",
    "\n",
    "\n",
    "\n",
    "---"
   ]
  },
  {
   "cell_type": "markdown",
   "metadata": {},
   "source": [
    "**Task 1.** Load the data from PS2.dta"
   ]
  },
  {
   "cell_type": "markdown",
   "metadata": {},
   "source": [
    "**Your code:**"
   ]
  },
  {
   "cell_type": "code",
   "execution_count": 10,
   "metadata": {},
   "outputs": [],
   "source": [
    "import pandas as pd\n",
    "\n",
    "df = pd.read_stata('PS2.dta')\n",
    "df_men = df[df.dmale == 1]"
   ]
  },
  {
   "cell_type": "markdown",
   "metadata": {},
   "source": [
    "**Task 2:** Estimate model (1) **for the male participants in the survey** only using the `statsmodels` module as described in lecture."
   ]
  },
  {
   "cell_type": "markdown",
   "metadata": {},
   "source": [
    "**Your code:**"
   ]
  },
  {
   "cell_type": "code",
   "execution_count": 14,
   "metadata": {},
   "outputs": [
    {
     "name": "stdout",
     "output_type": "stream",
     "text": [
      "                            OLS Regression Results                            \n",
      "==============================================================================\n",
      "Dep. Variable:                  xfath   R-squared:                       0.049\n",
      "Model:                            OLS   Adj. R-squared:                  0.045\n",
      "Method:                 Least Squares   F-statistic:                     13.11\n",
      "Date:                Mon, 09 Sep 2024   Prob (F-statistic):           0.000354\n",
      "Time:                        09:07:37   Log-Likelihood:                -2157.0\n",
      "No. Observations:                 258   AIC:                             4318.\n",
      "Df Residuals:                     256   BIC:                             4325.\n",
      "Df Model:                           1                                         \n",
      "Covariance Type:            nonrobust                                         \n",
      "==============================================================================\n",
      "                 coef    std err          t      P>|t|      [0.025      0.975]\n",
      "------------------------------------------------------------------------------\n",
      "const       1443.0723    195.086      7.397      0.000    1058.895    1827.249\n",
      "xtot           0.0488      0.013      3.621      0.000       0.022       0.075\n",
      "==============================================================================\n",
      "Omnibus:                       30.769   Durbin-Watson:                   1.909\n",
      "Prob(Omnibus):                  0.000   Jarque-Bera (JB):               37.993\n",
      "Skew:                           0.882   Prob(JB):                     5.62e-09\n",
      "Kurtosis:                       3.649   Cond. No.                     4.36e+04\n",
      "==============================================================================\n",
      "\n",
      "Notes:\n",
      "[1] Standard Errors assume that the covariance matrix of the errors is correctly specified.\n",
      "[2] The condition number is large, 4.36e+04. This might indicate that there are\n",
      "strong multicollinearity or other numerical problems.\n"
     ]
    },
    {
     "name": "stderr",
     "output_type": "stream",
     "text": [
      "/var/folders/qc/x5b6j81j2_z95401mrqcyhbc0000gn/T/ipykernel_15565/44712648.py:4: SettingWithCopyWarning: \n",
      "A value is trying to be set on a copy of a slice from a DataFrame.\n",
      "Try using .loc[row_indexer,col_indexer] = value instead\n",
      "\n",
      "See the caveats in the documentation: https://pandas.pydata.org/pandas-docs/stable/user_guide/indexing.html#returning-a-view-versus-a-copy\n",
      "  df_men[\"const\"]=1\n"
     ]
    }
   ],
   "source": [
    "import statsmodels.api as sm\n",
    "\n",
    "# OLS estimation vha OLS fra statsmodels\n",
    "df_men[\"const\"]=1\n",
    "model_sm = sm.OLS(df_men['xfath'], df_men[['const','xtot']]).fit()\n",
    "print(model_sm.summary())"
   ]
  },
  {
   "cell_type": "markdown",
   "metadata": {},
   "source": [
    "\n",
    "**Task 3:** What is the interpretation of the slope $\\beta_1$ and intercept $\\beta_0$ in model (1)? \n"
   ]
  },
  {
   "cell_type": "markdown",
   "metadata": {},
   "source": [
    "**Your answer:**"
   ]
  },
  {
   "cell_type": "markdown",
   "metadata": {},
   "source": [
    "$\\beta_0$ er start værdien og samtidig også mindste værdien for xfatx. $\\beta_1$ er positiv hvilket giver at jo mere totalt forbrug jo højere er xfath også hvilket giver god mening. Vi ser dog at værdien er lav så det er ikke den store indflydelse pr enhed."
   ]
  },
  {
   "cell_type": "markdown",
   "metadata": {},
   "source": [
    "**Task 4:** What is the estimate of the slope? And the intercept?\n",
    "\n"
   ]
  },
  {
   "cell_type": "markdown",
   "metadata": {},
   "source": [
    "**Your answer:**"
   ]
  },
  {
   "cell_type": "markdown",
   "metadata": {},
   "source": []
  },
  {
   "cell_type": "markdown",
   "metadata": {},
   "source": [
    "**Task 5:** What is the total variation in the dependent variable, SST? The explained variation in the dependent variable, SSE? The variation in the residuals, SSR?\n",
    "\n",
    "_Hint:_ You can calculate these statistics manually using the code from the lecture. Alternatively, you can access the statistics directly as properties of your OLS results object `sm.OLS.fit()`. If you named this object `results`, you can access the SST using `results.centered_tss`, the SSR using `results.ssr` and the SSE using `results.ess`."
   ]
  },
  {
   "cell_type": "markdown",
   "metadata": {},
   "source": [
    "**Your code:**"
   ]
  },
  {
   "cell_type": "code",
   "execution_count": 20,
   "metadata": {},
   "outputs": [
    {
     "name": "stdout",
     "output_type": "stream",
     "text": [
      "290257414.4844961\n",
      "276117266.3102634\n",
      "14140148.174232721\n"
     ]
    }
   ],
   "source": [
    "print(model_sm.centered_tss)\n",
    "print(model_sm.ssr)\n",
    "print(model_sm.ess)"
   ]
  },
  {
   "cell_type": "markdown",
   "metadata": {},
   "source": [
    "**Your answer:**"
   ]
  },
  {
   "cell_type": "markdown",
   "metadata": {},
   "source": []
  },
  {
   "cell_type": "markdown",
   "metadata": {},
   "source": [
    "**Task 6:** Find the coefficient of determination, $R^2$. How can it be calculated from the three measures from the previous question? How would you interpret the calculated $R^2$?\n"
   ]
  },
  {
   "cell_type": "markdown",
   "metadata": {},
   "source": [
    "**Your answer:**"
   ]
  },
  {
   "cell_type": "markdown",
   "metadata": {},
   "source": [
    "Kan findes ved SSE / SST eller ved vores regression til 0,049"
   ]
  },
  {
   "cell_type": "markdown",
   "metadata": {},
   "source": [
    "**Task 7:** What is the estimate of the variance of the error term, $\\hat \\sigma^2$?\n",
    "\n",
    "_Hint:_ use `results.mse_resid` to retrieve the estimated variance of the error term directly from the model object"
   ]
  },
  {
   "cell_type": "markdown",
   "metadata": {},
   "source": [
    "**Your code:**"
   ]
  },
  {
   "cell_type": "code",
   "execution_count": 25,
   "metadata": {},
   "outputs": [
    {
     "name": "stdout",
     "output_type": "stream",
     "text": [
      "variance = 1078583.0715244664\n"
     ]
    }
   ],
   "source": [
    "print('variance =',model_sm.mse_resid)"
   ]
  },
  {
   "cell_type": "markdown",
   "metadata": {},
   "source": [
    "**Your answer:**"
   ]
  },
  {
   "cell_type": "markdown",
   "metadata": {},
   "source": []
  },
  {
   "cell_type": "markdown",
   "metadata": {},
   "source": [
    "### Exercise 2: Illustrate the estimated Engel curve"
   ]
  },
  {
   "cell_type": "markdown",
   "metadata": {},
   "source": [
    "**Task 1:** Illustrate the estimated Engel curve in a graph together with a scatterplot of the actual data observations. \n",
    "\n",
    "_Hints:_ To plot the estimated Engel curve, you need the $\\hat{y}$ values (your estimated xfath values) for each of the observed $x$-values (the xtot values) in the dataset. When plotted together, these $\\hat{y}$ values form the line estimated by OLS.\n",
    "\n",
    "If your OLS results object is called `results` and your observations of xtot are called `X`, you can extract the $\\hat{y}$ values like this:\n",
    "\n",
    "```py\n",
    "y_hat = results.predict(X)\n",
    "```\n",
    "\n",
    "To do a lineplot in Seaborn, use the `sns.lineplot(x, y, data)` method.\n",
    "\n",
    "To layer two plots on top of each other, simply execute two Seaborn commands after one another in a single cell."
   ]
  },
  {
   "cell_type": "markdown",
   "metadata": {},
   "source": [
    "**Your code:**"
   ]
  },
  {
   "cell_type": "code",
   "execution_count": 33,
   "metadata": {},
   "outputs": [
    {
     "ename": "TypeError",
     "evalue": "lineplot() takes from 0 to 1 positional arguments but 3 were given",
     "output_type": "error",
     "traceback": [
      "\u001b[0;31m---------------------------------------------------------------------------\u001b[0m",
      "\u001b[0;31mTypeError\u001b[0m                                 Traceback (most recent call last)",
      "Cell \u001b[0;32mIn[33], line 5\u001b[0m\n\u001b[1;32m      2\u001b[0m y_hat\n\u001b[1;32m      4\u001b[0m \u001b[38;5;28;01mimport\u001b[39;00m \u001b[38;5;21;01mseaborn\u001b[39;00m \u001b[38;5;28;01mas\u001b[39;00m \u001b[38;5;21;01msns\u001b[39;00m\n\u001b[0;32m----> 5\u001b[0m sns\u001b[38;5;241m.\u001b[39mlineplot(df_men\u001b[38;5;241m.\u001b[39mxtot,y_hat,df_men)\n",
      "\u001b[0;31mTypeError\u001b[0m: lineplot() takes from 0 to 1 positional arguments but 3 were given"
     ]
    }
   ],
   "source": [
    "y_hat = model_sm.predict()\n",
    "y_hat\n",
    "\n",
    "import seaborn as sns\n",
    "sns.lineplot(df_men.xtot,y_hat,df_men)"
   ]
  },
  {
   "cell_type": "markdown",
   "metadata": {},
   "source": [
    "**Task 2:** Perform scatterplots of the residuals from the regression against xtot and the predicted value of food consumption, separately.What shall you expect given the assumptions presented in the lectures? Should you expect the total expediture to correlate with the residuals? \n",
    "\n",
    "_Hint:_\n",
    "You can access the residuals using the `.resid` property of your results object.\n",
    "\n",
    "_Pro tip:_ You can manually change the labels of the y- and x-axis of Seaborn plots by adding `.set(ylabel=\"Residuals\", xlabel=\"xtot\")` to the end of your plot command"
   ]
  },
  {
   "cell_type": "markdown",
   "metadata": {},
   "source": [
    "**Your code:**"
   ]
  },
  {
   "cell_type": "code",
   "execution_count": 1,
   "metadata": {},
   "outputs": [],
   "source": [
    "#Task 2a \n"
   ]
  },
  {
   "cell_type": "code",
   "execution_count": 2,
   "metadata": {},
   "outputs": [],
   "source": [
    "# Task 2b\n"
   ]
  },
  {
   "cell_type": "markdown",
   "metadata": {},
   "source": [
    "Remember the mechanical properties of the OLS estimator: The residuals sum to zero, $E(u)=0$, and are always uncorrelated with the explanatory variables, $E(x|u)=0$"
   ]
  },
  {
   "cell_type": "markdown",
   "metadata": {},
   "source": [
    "### Exercise 2: Estimate model (2)\n",
    "\n",
    "In this exercise, we are going to estimate model (2) for men and women individually:\n",
    "\\begin{align}\n",
    "\\frac{\\text{xfath}_i}{\\text{xtot}_i} = \\delta_0 + \\delta_1 \\log \\left(\\frac{\\text{xtot}_i}{\\text{price}_i}\n",
    "\\right) + v_i \\tag{2}\n",
    "\\end{align}\n"
   ]
  },
  {
   "cell_type": "markdown",
   "metadata": {},
   "source": [
    "**Task 1:** Construct the variables needed to estimate model (2). \n",
    "\n",
    "_Hint:_ The $\\text{price}_i$ variable is included in the dataset under the name `price`.\n"
   ]
  },
  {
   "cell_type": "markdown",
   "metadata": {},
   "source": [
    "**Your code:**"
   ]
  },
  {
   "cell_type": "code",
   "execution_count": null,
   "metadata": {},
   "outputs": [],
   "source": []
  },
  {
   "cell_type": "markdown",
   "metadata": {},
   "source": [
    "**Task 2:** Estimate model (2) by OLS for the budget shares of food, clothing and alcohol for men and women, separately. For each gender and each of the three expenditure categories, print the estimated slope parameters. \n",
    "\n",
    "_Hint_: Write a nested for-loop where you estimate the model and print the parameter estimate for each of the genders and and each of the three dependant variables. \n",
    "\n",
    "To access the individual model parameters, you can use the `.params` property of the results object. For example, if you have an explanatory variable called `log_xtot_adj`, you can access the parameter estimate like this:\n",
    "\n",
    "\n",
    "```py\n",
    "model = sm.OLS(y, X)\n",
    "results = models.fit()\n",
    "delta1 = results.params['log_xtot_adj']\n",
    "```"
   ]
  },
  {
   "cell_type": "markdown",
   "metadata": {},
   "source": [
    "**Your code:**"
   ]
  },
  {
   "cell_type": "code",
   "execution_count": null,
   "metadata": {},
   "outputs": [],
   "source": []
  },
  {
   "cell_type": "markdown",
   "metadata": {},
   "source": [
    "**Task 3:** Interpret the estimation results in light of the discussion on luxury versus necessity goods (see group work). Which parameter is central to the analysis? What conclusions can be drawn on the basis of the analysis?"
   ]
  },
  {
   "cell_type": "markdown",
   "metadata": {},
   "source": [
    "**Your answer:**"
   ]
  },
  {
   "cell_type": "markdown",
   "metadata": {},
   "source": []
  },
  {
   "cell_type": "markdown",
   "metadata": {},
   "source": [
    "## Theoretical exercise\n",
    "Solve the following theoretical exercises (using pen and paper). Estimated time for the exam is 30\n",
    "minutes.\n",
    "\n",
    "**Task 1:**\n",
    "Write up the simple linear regression model (SLR) with a constant term and 1\n",
    "explanatory variable in matrix form for $n$ observations."
   ]
  },
  {
   "cell_type": "markdown",
   "metadata": {},
   "source": [
    "**Task 2:** Write the OLS estimator in matrix form. Show that when one\n",
    "calculates the OLS estimator, then: \n",
    "\\begin{equation*}\n",
    "\\widehat{\\beta }_{0}=\\bar{y}-\\frac{\\sum_{i=1}^{n}(x_{i}-\\bar{x})(y_{i}-\\bar{y%\n",
    "})}{\\sum_{i=1}^{n}(x_{i}-\\bar{x})^{2}}\\bar{x},\\qquad \\widehat{\\beta }_{1}=%\n",
    "\\frac{\\sum_{i=1}^{n}(x_{i}-\\bar{x})(y_{i}-\\bar{y})}{\\sum_{i=1}^{n}(x_{i}-%\n",
    "\\bar{x})^{2}}\n",
    "\\end{equation*}%\n",
    "where $\\bar{x}=\\frac{1}{n}\\sum_{i=1}^{n}x_{i}$ and $\\bar{y}=\\frac{1}{n}%\n",
    "\\sum_{i=1}^{n}y_{i}$.\n",
    "\n",
    "_Hints_: Use the following rule for inverting a matrix: \n",
    "\\begin{equation*}\n",
    "\\left[ \n",
    "\\begin{array}{cc}\n",
    "a & b \\\\ \n",
    "c & d%\n",
    "\\end{array}%\n",
    "\\right] ^{-1}=\\frac{1}{ad-bc}\\left[ \n",
    "\\begin{array}{cc}\n",
    "d & -b \\\\ \n",
    "-c & a%\n",
    "\\end{array}%\n",
    "\\right]\n",
    "\\end{equation*}\n",
    "as well rules (A.7) and (A.8) in Math Refresher A in the textbook.\n"
   ]
  }
 ],
 "metadata": {
  "kernelspec": {
   "display_name": "Python 3 (ipykernel)",
   "language": "python",
   "name": "python3"
  },
  "language_info": {
   "codemirror_mode": {
    "name": "ipython",
    "version": 3
   },
   "file_extension": ".py",
   "mimetype": "text/x-python",
   "name": "python",
   "nbconvert_exporter": "python",
   "pygments_lexer": "ipython3",
   "version": "3.12.2"
  }
 },
 "nbformat": 4,
 "nbformat_minor": 2
}
