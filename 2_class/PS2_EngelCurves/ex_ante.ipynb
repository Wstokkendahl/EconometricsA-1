{
 "cells": [
  {
   "cell_type": "markdown",
   "metadata": {},
   "source": [
    "# Problem Set 2\n"
   ]
  },
  {
   "cell_type": "markdown",
   "metadata": {},
   "source": [
    "## An econometric analysis of Engel curves for U.S. households\n",
    "In problem set 1, we undertook the initial analysis of the data and discussed regression models of Engel curves for food, clothes and alcohol. The objective of this week’s problem set is to estimate a simple regression model of the Engel curve using the OLS estimator.\n",
    "\n",
    "The starting point is a regression model with one explanatory variable. Specifically, let us consider the case where the dependent variable represents food expenditures, while the explanatory variable is total expenditure:\n",
    "\n",
    "\\begin{align}\n",
    "\\text{xfath}_i = \\beta_0 + \\beta_1 \\text{xtot}_i + u_i \\tag{1}\n",
    "\\end{align}\n",
    "\n",
    "In the consumption literature, it is common to use expenditure share, $\\text{xfath}/\\text{xtot}$, as the dependent variable instead of using total food expenditures. Furthermore, the logarithm of total expenditure deflated by an individual ”consumer price index” is often used as the explanatory variable. In this case, the regression model is:\n",
    "\n",
    "\\begin{align}\n",
    "\\frac{\\text{xfath}_i}{\\text{xtot}_i} = \\delta_0 + \\delta_1 \\log \\left(\\frac{\\text{xtot}_i}{\\text{price}_i}\n",
    "\\right) + v_i \\tag{2}\n",
    "\\end{align}"
   ]
  },
  {
   "cell_type": "markdown",
   "metadata": {},
   "source": [
    "\n",
    "## Group work: Discuss model (2)"
   ]
  },
  {
   "cell_type": "markdown",
   "metadata": {},
   "source": [
    "### Question 1\n",
    "**Task:** What is the interpretation of $\\delta_1$ when $%\n",
    "\\delta_1>0$ and $\\delta_1<0$? \n",
    "(Hint: luxury versus necessity goods)\n",
    "\n",
    "**Your answer:**"
   ]
  },
  {
   "cell_type": "markdown",
   "metadata": {},
   "source": [
    "$\\delta_1$ er positiv når man køber meget luxury og negativ hvis man udelukkende køber de nødvendige vare. Dette skyldes at hvis man køber luxury food bruger man en større andel af sit råderum på fath (mad i hjemmet)"
   ]
  },
  {
   "cell_type": "markdown",
   "metadata": {},
   "source": [
    "### Question 2\n",
    "**Task:** What is likely to be included in the error term in model (2)?\n",
    "(Hint: What other variables may influence the dependent variable, $\\text{xfath}/\\text{xtot}$, besides the explanatory variable?)\n",
    "\n",
    "**Your answer:**"
   ]
  },
  {
   "cell_type": "markdown",
   "metadata": {},
   "source": [
    "Variablen \"rest\" kan være i fejlledet da hvis man går meget på restaurent vil man ikke bruge ligeså mange penge på mad i hjemmet."
   ]
  },
  {
   "cell_type": "markdown",
   "metadata": {},
   "source": [
    "\n",
    "## Python exercises"
   ]
  },
  {
   "cell_type": "markdown",
   "metadata": {},
   "source": [
    "### Exercise 1: Estimate model (1)\n",
    "In this exercise, we are going to estimate model (1) **for men only** using OLS:\n",
    "\\begin{align}\n",
    "\\text{xfath}_i = \\beta_0 + \\beta_1 \\text{xtot}_i + u_i \\tag{1}\n",
    "\\end{align}\n",
    "\n",
    "To do this, revisit the lecture notebook and use the `statsmodels` approach described there.\n",
    "\n",
    "\n",
    "\n",
    "---"
   ]
  },
  {
   "cell_type": "markdown",
   "metadata": {},
   "source": [
    "**Task 1.** Load the data from PS2.dta"
   ]
  },
  {
   "cell_type": "markdown",
   "metadata": {},
   "source": [
    "**Your code:**"
   ]
  },
  {
   "cell_type": "code",
   "execution_count": 5,
   "metadata": {},
   "outputs": [],
   "source": [
    "import pandas as pd\n",
    "\n",
    "df = pd.read_stata('PS2.dta')\n",
    "df_men = df[df.dmale == 1]"
   ]
  },
  {
   "cell_type": "markdown",
   "metadata": {},
   "source": [
    "**Task 2:** Estimate model (1) **for the male participants in the survey** only using the `statsmodels` module as described in lecture."
   ]
  },
  {
   "cell_type": "markdown",
   "metadata": {},
   "source": [
    "**Your code:**"
   ]
  },
  {
   "cell_type": "code",
   "execution_count": 7,
   "metadata": {},
   "outputs": [
    {
     "name": "stdout",
     "output_type": "stream",
     "text": [
      "\\begin{center}\n",
      "\\begin{tabular}{lclc}\n",
      "\\toprule\n",
      "\\textbf{Dep. Variable:}    &      xfath       & \\textbf{  R-squared:         } &     0.049   \\\\\n",
      "\\textbf{Model:}            &       OLS        & \\textbf{  Adj. R-squared:    } &     0.045   \\\\\n",
      "\\textbf{Method:}           &  Least Squares   & \\textbf{  F-statistic:       } &     13.11   \\\\\n",
      "\\textbf{Date:}             & Fri, 13 Sep 2024 & \\textbf{  Prob (F-statistic):} &  0.000354   \\\\\n",
      "\\textbf{Time:}             &     09:58:43     & \\textbf{  Log-Likelihood:    } &   -2157.0   \\\\\n",
      "\\textbf{No. Observations:} &         258      & \\textbf{  AIC:               } &     4318.   \\\\\n",
      "\\textbf{Df Residuals:}     &         256      & \\textbf{  BIC:               } &     4325.   \\\\\n",
      "\\textbf{Df Model:}         &           1      & \\textbf{                     } &             \\\\\n",
      "\\textbf{Covariance Type:}  &    nonrobust     & \\textbf{                     } &             \\\\\n",
      "\\bottomrule\n",
      "\\end{tabular}\n",
      "\\begin{tabular}{lcccccc}\n",
      "               & \\textbf{coef} & \\textbf{std err} & \\textbf{t} & \\textbf{P$> |$t$|$} & \\textbf{[0.025} & \\textbf{0.975]}  \\\\\n",
      "\\midrule\n",
      "\\textbf{const} &    1443.0723  &      195.086     &     7.397  &         0.000        &     1058.895    &     1827.249     \\\\\n",
      "\\textbf{xtot}  &       0.0488  &        0.013     &     3.621  &         0.000        &        0.022    &        0.075     \\\\\n",
      "\\bottomrule\n",
      "\\end{tabular}\n",
      "\\begin{tabular}{lclc}\n",
      "\\textbf{Omnibus:}       & 30.769 & \\textbf{  Durbin-Watson:     } &    1.909  \\\\\n",
      "\\textbf{Prob(Omnibus):} &  0.000 & \\textbf{  Jarque-Bera (JB):  } &   37.993  \\\\\n",
      "\\textbf{Skew:}          &  0.882 & \\textbf{  Prob(JB):          } & 5.62e-09  \\\\\n",
      "\\textbf{Kurtosis:}      &  3.649 & \\textbf{  Cond. No.          } & 4.36e+04  \\\\\n",
      "\\bottomrule\n",
      "\\end{tabular}\n",
      "%\\caption{OLS Regression Results}\n",
      "\\end{center}\n",
      "\n",
      "Notes: \\newline\n",
      " [1] Standard Errors assume that the covariance matrix of the errors is correctly specified. \\newline\n",
      " [2] The condition number is large, 4.36e+04. This might indicate that there are \\newline\n",
      " strong multicollinearity or other numerical problems.\n"
     ]
    },
    {
     "name": "stderr",
     "output_type": "stream",
     "text": [
      "/var/folders/qc/x5b6j81j2_z95401mrqcyhbc0000gn/T/ipykernel_3886/3801808792.py:4: SettingWithCopyWarning: \n",
      "A value is trying to be set on a copy of a slice from a DataFrame.\n",
      "Try using .loc[row_indexer,col_indexer] = value instead\n",
      "\n",
      "See the caveats in the documentation: https://pandas.pydata.org/pandas-docs/stable/user_guide/indexing.html#returning-a-view-versus-a-copy\n",
      "  df_men[\"const\"]=1\n"
     ]
    }
   ],
   "source": [
    "import statsmodels.api as sm\n",
    "\n",
    "# OLS estimation vha OLS fra statsmodels\n",
    "df_men[\"const\"]=1\n",
    "model_sm = sm.OLS(df_men['xfath'], df_men[['const','xtot']]).fit()\n",
    "#print(model_sm.summary())\n",
    "print(model_sm.summary().as_latex())\n",
    "X = df_men[['const','xtot']]"
   ]
  },
  {
   "cell_type": "markdown",
   "metadata": {},
   "source": [
    "\n",
    "**Task 3:** What is the interpretation of the slope $\\beta_1$ and intercept $\\beta_0$ in model (1)? \n"
   ]
  },
  {
   "cell_type": "markdown",
   "metadata": {},
   "source": [
    "**Your answer:**"
   ]
  },
  {
   "cell_type": "markdown",
   "metadata": {},
   "source": [
    "$\\beta_0$ er start værdien og samtidig også mindste værdien for xfatx. $\\beta_1$ er positiv hvilket giver at jo mere totalt forbrug jo højere er xfath også hvilket giver god mening. Vi ser dog at værdien er lav så det er ikke den store indflydelse pr enhed."
   ]
  },
  {
   "cell_type": "markdown",
   "metadata": {},
   "source": [
    "**Task 4:** What is the estimate of the slope? And the intercept?\n",
    "\n"
   ]
  },
  {
   "cell_type": "markdown",
   "metadata": {},
   "source": [
    "**Your answer:**"
   ]
  },
  {
   "cell_type": "markdown",
   "metadata": {},
   "source": []
  },
  {
   "cell_type": "markdown",
   "metadata": {},
   "source": [
    "**Task 5:** What is the total variation in the dependent variable, SST? The explained variation in the dependent variable, SSE? The variation in the residuals, SSR?\n",
    "\n",
    "_Hint:_ You can calculate these statistics manually using the code from the lecture. Alternatively, you can access the statistics directly as properties of your OLS results object `sm.OLS.fit()`. If you named this object `results`, you can access the SST using `results.centered_tss`, the SSR using `results.ssr` and the SSE using `results.ess`."
   ]
  },
  {
   "cell_type": "markdown",
   "metadata": {},
   "source": [
    "**Your code:**"
   ]
  },
  {
   "cell_type": "code",
   "execution_count": 4,
   "metadata": {},
   "outputs": [
    {
     "name": "stdout",
     "output_type": "stream",
     "text": [
      "290257414.4844961\n",
      "276117266.3102634\n",
      "14140148.174232721\n"
     ]
    }
   ],
   "source": [
    "print(model_sm.centered_tss)\n",
    "print(model_sm.ssr)\n",
    "print(model_sm.ess)"
   ]
  },
  {
   "cell_type": "markdown",
   "metadata": {},
   "source": [
    "**Your answer:**"
   ]
  },
  {
   "cell_type": "markdown",
   "metadata": {},
   "source": []
  },
  {
   "cell_type": "markdown",
   "metadata": {},
   "source": [
    "**Task 6:** Find the coefficient of determination, $R^2$. How can it be calculated from the three measures from the previous question? How would you interpret the calculated $R^2$?\n"
   ]
  },
  {
   "cell_type": "markdown",
   "metadata": {},
   "source": [
    "**Your answer:**"
   ]
  },
  {
   "cell_type": "markdown",
   "metadata": {},
   "source": [
    "Kan findes ved SSE / SST eller ved vores regression til 0,049"
   ]
  },
  {
   "cell_type": "markdown",
   "metadata": {},
   "source": [
    "**Task 7:** What is the estimate of the variance of the error term, $\\hat \\sigma^2$?\n",
    "\n",
    "_Hint:_ use `results.mse_resid` to retrieve the estimated variance of the error term directly from the model object"
   ]
  },
  {
   "cell_type": "markdown",
   "metadata": {},
   "source": [
    "**Your code:**"
   ]
  },
  {
   "cell_type": "code",
   "execution_count": 36,
   "metadata": {},
   "outputs": [
    {
     "name": "stdout",
     "output_type": "stream",
     "text": [
      "variance = 1078583.0715244664\n"
     ]
    },
    {
     "data": {
      "text/html": [
       "<div>\n",
       "<style scoped>\n",
       "    .dataframe tbody tr th:only-of-type {\n",
       "        vertical-align: middle;\n",
       "    }\n",
       "\n",
       "    .dataframe tbody tr th {\n",
       "        vertical-align: top;\n",
       "    }\n",
       "\n",
       "    .dataframe thead th {\n",
       "        text-align: right;\n",
       "    }\n",
       "</style>\n",
       "<table border=\"1\" class=\"dataframe\">\n",
       "  <thead>\n",
       "    <tr style=\"text-align: right;\">\n",
       "      <th></th>\n",
       "      <th>year</th>\n",
       "      <th>province</th>\n",
       "      <th>hgy</th>\n",
       "      <th>hage</th>\n",
       "      <th>nety</th>\n",
       "      <th>xfath</th>\n",
       "      <th>xrest</th>\n",
       "      <th>xhhop</th>\n",
       "      <th>xwcloth</th>\n",
       "      <th>xmcloth</th>\n",
       "      <th>...</th>\n",
       "      <th>price</th>\n",
       "      <th>rxtot</th>\n",
       "      <th>xtot</th>\n",
       "      <th>wfath</th>\n",
       "      <th>wwcloth</th>\n",
       "      <th>wmcloth</th>\n",
       "      <th>walc</th>\n",
       "      <th>const</th>\n",
       "      <th>xfath share</th>\n",
       "      <th>xtot price</th>\n",
       "    </tr>\n",
       "  </thead>\n",
       "  <tbody>\n",
       "    <tr>\n",
       "      <th>192</th>\n",
       "      <td>92.0</td>\n",
       "      <td>5.0</td>\n",
       "      <td>39110.0</td>\n",
       "      <td>34.0</td>\n",
       "      <td>29270.0</td>\n",
       "      <td>240.0</td>\n",
       "      <td>4600.0</td>\n",
       "      <td>547.0</td>\n",
       "      <td>0.0</td>\n",
       "      <td>370.0</td>\n",
       "      <td>...</td>\n",
       "      <td>273.107147</td>\n",
       "      <td>59.914215</td>\n",
       "      <td>16363.0</td>\n",
       "      <td>0.014667</td>\n",
       "      <td>0.0</td>\n",
       "      <td>0.022612</td>\n",
       "      <td>0.331235</td>\n",
       "      <td>1</td>\n",
       "      <td>0.014667</td>\n",
       "      <td>59.914214</td>\n",
       "    </tr>\n",
       "    <tr>\n",
       "      <th>193</th>\n",
       "      <td>92.0</td>\n",
       "      <td>5.0</td>\n",
       "      <td>20165.0</td>\n",
       "      <td>41.0</td>\n",
       "      <td>17948.0</td>\n",
       "      <td>1400.0</td>\n",
       "      <td>1260.0</td>\n",
       "      <td>833.0</td>\n",
       "      <td>0.0</td>\n",
       "      <td>590.0</td>\n",
       "      <td>...</td>\n",
       "      <td>285.040222</td>\n",
       "      <td>27.178621</td>\n",
       "      <td>7747.0</td>\n",
       "      <td>0.180715</td>\n",
       "      <td>0.0</td>\n",
       "      <td>0.076159</td>\n",
       "      <td>0.062218</td>\n",
       "      <td>1</td>\n",
       "      <td>0.180715</td>\n",
       "      <td>27.178620</td>\n",
       "    </tr>\n",
       "    <tr>\n",
       "      <th>194</th>\n",
       "      <td>92.0</td>\n",
       "      <td>1.0</td>\n",
       "      <td>41755.0</td>\n",
       "      <td>26.0</td>\n",
       "      <td>30655.0</td>\n",
       "      <td>1890.0</td>\n",
       "      <td>2035.0</td>\n",
       "      <td>864.0</td>\n",
       "      <td>0.0</td>\n",
       "      <td>754.0</td>\n",
       "      <td>...</td>\n",
       "      <td>227.287155</td>\n",
       "      <td>58.938660</td>\n",
       "      <td>13396.0</td>\n",
       "      <td>0.141087</td>\n",
       "      <td>0.0</td>\n",
       "      <td>0.056285</td>\n",
       "      <td>0.011496</td>\n",
       "      <td>1</td>\n",
       "      <td>0.141087</td>\n",
       "      <td>58.938658</td>\n",
       "    </tr>\n",
       "    <tr>\n",
       "      <th>195</th>\n",
       "      <td>92.0</td>\n",
       "      <td>4.0</td>\n",
       "      <td>58425.0</td>\n",
       "      <td>34.0</td>\n",
       "      <td>46125.0</td>\n",
       "      <td>720.0</td>\n",
       "      <td>3350.0</td>\n",
       "      <td>2185.0</td>\n",
       "      <td>0.0</td>\n",
       "      <td>1770.0</td>\n",
       "      <td>...</td>\n",
       "      <td>222.218002</td>\n",
       "      <td>90.393219</td>\n",
       "      <td>20087.0</td>\n",
       "      <td>0.035844</td>\n",
       "      <td>0.0</td>\n",
       "      <td>0.088117</td>\n",
       "      <td>0.017922</td>\n",
       "      <td>1</td>\n",
       "      <td>0.035844</td>\n",
       "      <td>90.393217</td>\n",
       "    </tr>\n",
       "    <tr>\n",
       "      <th>196</th>\n",
       "      <td>92.0</td>\n",
       "      <td>5.0</td>\n",
       "      <td>35018.0</td>\n",
       "      <td>29.0</td>\n",
       "      <td>27088.0</td>\n",
       "      <td>2900.0</td>\n",
       "      <td>1700.0</td>\n",
       "      <td>1100.0</td>\n",
       "      <td>0.0</td>\n",
       "      <td>1350.0</td>\n",
       "      <td>...</td>\n",
       "      <td>238.195923</td>\n",
       "      <td>61.340260</td>\n",
       "      <td>14611.0</td>\n",
       "      <td>0.198481</td>\n",
       "      <td>0.0</td>\n",
       "      <td>0.092396</td>\n",
       "      <td>0.088974</td>\n",
       "      <td>1</td>\n",
       "      <td>0.198481</td>\n",
       "      <td>61.340261</td>\n",
       "    </tr>\n",
       "    <tr>\n",
       "      <th>...</th>\n",
       "      <td>...</td>\n",
       "      <td>...</td>\n",
       "      <td>...</td>\n",
       "      <td>...</td>\n",
       "      <td>...</td>\n",
       "      <td>...</td>\n",
       "      <td>...</td>\n",
       "      <td>...</td>\n",
       "      <td>...</td>\n",
       "      <td>...</td>\n",
       "      <td>...</td>\n",
       "      <td>...</td>\n",
       "      <td>...</td>\n",
       "      <td>...</td>\n",
       "      <td>...</td>\n",
       "      <td>...</td>\n",
       "      <td>...</td>\n",
       "      <td>...</td>\n",
       "      <td>...</td>\n",
       "      <td>...</td>\n",
       "      <td>...</td>\n",
       "    </tr>\n",
       "    <tr>\n",
       "      <th>445</th>\n",
       "      <td>92.0</td>\n",
       "      <td>3.0</td>\n",
       "      <td>60600.0</td>\n",
       "      <td>42.0</td>\n",
       "      <td>41900.0</td>\n",
       "      <td>2490.0</td>\n",
       "      <td>1500.0</td>\n",
       "      <td>565.0</td>\n",
       "      <td>0.0</td>\n",
       "      <td>310.0</td>\n",
       "      <td>...</td>\n",
       "      <td>297.064484</td>\n",
       "      <td>54.829845</td>\n",
       "      <td>16288.0</td>\n",
       "      <td>0.152873</td>\n",
       "      <td>0.0</td>\n",
       "      <td>0.019032</td>\n",
       "      <td>0.083497</td>\n",
       "      <td>1</td>\n",
       "      <td>0.152873</td>\n",
       "      <td>54.829846</td>\n",
       "    </tr>\n",
       "    <tr>\n",
       "      <th>446</th>\n",
       "      <td>92.0</td>\n",
       "      <td>1.0</td>\n",
       "      <td>45148.0</td>\n",
       "      <td>41.0</td>\n",
       "      <td>35073.0</td>\n",
       "      <td>900.0</td>\n",
       "      <td>4500.0</td>\n",
       "      <td>933.0</td>\n",
       "      <td>0.0</td>\n",
       "      <td>880.0</td>\n",
       "      <td>...</td>\n",
       "      <td>242.214417</td>\n",
       "      <td>55.417839</td>\n",
       "      <td>13423.0</td>\n",
       "      <td>0.067049</td>\n",
       "      <td>0.0</td>\n",
       "      <td>0.065559</td>\n",
       "      <td>0.207852</td>\n",
       "      <td>1</td>\n",
       "      <td>0.067049</td>\n",
       "      <td>55.417841</td>\n",
       "    </tr>\n",
       "    <tr>\n",
       "      <th>447</th>\n",
       "      <td>92.0</td>\n",
       "      <td>4.0</td>\n",
       "      <td>41200.0</td>\n",
       "      <td>29.0</td>\n",
       "      <td>30900.0</td>\n",
       "      <td>1500.0</td>\n",
       "      <td>1580.0</td>\n",
       "      <td>580.0</td>\n",
       "      <td>0.0</td>\n",
       "      <td>2195.0</td>\n",
       "      <td>...</td>\n",
       "      <td>219.699570</td>\n",
       "      <td>69.258217</td>\n",
       "      <td>15216.0</td>\n",
       "      <td>0.098580</td>\n",
       "      <td>0.0</td>\n",
       "      <td>0.144256</td>\n",
       "      <td>0.018402</td>\n",
       "      <td>1</td>\n",
       "      <td>0.098580</td>\n",
       "      <td>69.258215</td>\n",
       "    </tr>\n",
       "    <tr>\n",
       "      <th>448</th>\n",
       "      <td>92.0</td>\n",
       "      <td>2.0</td>\n",
       "      <td>40400.0</td>\n",
       "      <td>38.0</td>\n",
       "      <td>28440.0</td>\n",
       "      <td>2790.0</td>\n",
       "      <td>2410.0</td>\n",
       "      <td>874.0</td>\n",
       "      <td>0.0</td>\n",
       "      <td>1000.0</td>\n",
       "      <td>...</td>\n",
       "      <td>249.672058</td>\n",
       "      <td>62.822407</td>\n",
       "      <td>15685.0</td>\n",
       "      <td>0.177877</td>\n",
       "      <td>0.0</td>\n",
       "      <td>0.063755</td>\n",
       "      <td>0.155690</td>\n",
       "      <td>1</td>\n",
       "      <td>0.177877</td>\n",
       "      <td>62.822408</td>\n",
       "    </tr>\n",
       "    <tr>\n",
       "      <th>449</th>\n",
       "      <td>92.0</td>\n",
       "      <td>3.0</td>\n",
       "      <td>32000.0</td>\n",
       "      <td>25.0</td>\n",
       "      <td>27422.0</td>\n",
       "      <td>1100.0</td>\n",
       "      <td>1140.0</td>\n",
       "      <td>486.0</td>\n",
       "      <td>0.0</td>\n",
       "      <td>1175.0</td>\n",
       "      <td>...</td>\n",
       "      <td>286.320862</td>\n",
       "      <td>31.283085</td>\n",
       "      <td>8957.0</td>\n",
       "      <td>0.122809</td>\n",
       "      <td>0.0</td>\n",
       "      <td>0.131182</td>\n",
       "      <td>0.205203</td>\n",
       "      <td>1</td>\n",
       "      <td>0.122809</td>\n",
       "      <td>31.283085</td>\n",
       "    </tr>\n",
       "  </tbody>\n",
       "</table>\n",
       "<p>258 rows × 46 columns</p>\n",
       "</div>"
      ],
      "text/plain": [
       "     year  province      hgy  hage     nety   xfath   xrest   xhhop  xwcloth  \\\n",
       "192  92.0       5.0  39110.0  34.0  29270.0   240.0  4600.0   547.0      0.0   \n",
       "193  92.0       5.0  20165.0  41.0  17948.0  1400.0  1260.0   833.0      0.0   \n",
       "194  92.0       1.0  41755.0  26.0  30655.0  1890.0  2035.0   864.0      0.0   \n",
       "195  92.0       4.0  58425.0  34.0  46125.0   720.0  3350.0  2185.0      0.0   \n",
       "196  92.0       5.0  35018.0  29.0  27088.0  2900.0  1700.0  1100.0      0.0   \n",
       "..    ...       ...      ...   ...      ...     ...     ...     ...      ...   \n",
       "445  92.0       3.0  60600.0  42.0  41900.0  2490.0  1500.0   565.0      0.0   \n",
       "446  92.0       1.0  45148.0  41.0  35073.0   900.0  4500.0   933.0      0.0   \n",
       "447  92.0       4.0  41200.0  29.0  30900.0  1500.0  1580.0   580.0      0.0   \n",
       "448  92.0       2.0  40400.0  38.0  28440.0  2790.0  2410.0   874.0      0.0   \n",
       "449  92.0       3.0  32000.0  25.0  27422.0  1100.0  1140.0   486.0      0.0   \n",
       "\n",
       "     xmcloth  ...       price      rxtot     xtot     wfath  wwcloth  \\\n",
       "192    370.0  ...  273.107147  59.914215  16363.0  0.014667      0.0   \n",
       "193    590.0  ...  285.040222  27.178621   7747.0  0.180715      0.0   \n",
       "194    754.0  ...  227.287155  58.938660  13396.0  0.141087      0.0   \n",
       "195   1770.0  ...  222.218002  90.393219  20087.0  0.035844      0.0   \n",
       "196   1350.0  ...  238.195923  61.340260  14611.0  0.198481      0.0   \n",
       "..       ...  ...         ...        ...      ...       ...      ...   \n",
       "445    310.0  ...  297.064484  54.829845  16288.0  0.152873      0.0   \n",
       "446    880.0  ...  242.214417  55.417839  13423.0  0.067049      0.0   \n",
       "447   2195.0  ...  219.699570  69.258217  15216.0  0.098580      0.0   \n",
       "448   1000.0  ...  249.672058  62.822407  15685.0  0.177877      0.0   \n",
       "449   1175.0  ...  286.320862  31.283085   8957.0  0.122809      0.0   \n",
       "\n",
       "      wmcloth      walc  const  xfath share  xtot price  \n",
       "192  0.022612  0.331235      1     0.014667   59.914214  \n",
       "193  0.076159  0.062218      1     0.180715   27.178620  \n",
       "194  0.056285  0.011496      1     0.141087   58.938658  \n",
       "195  0.088117  0.017922      1     0.035844   90.393217  \n",
       "196  0.092396  0.088974      1     0.198481   61.340261  \n",
       "..        ...       ...    ...          ...         ...  \n",
       "445  0.019032  0.083497      1     0.152873   54.829846  \n",
       "446  0.065559  0.207852      1     0.067049   55.417841  \n",
       "447  0.144256  0.018402      1     0.098580   69.258215  \n",
       "448  0.063755  0.155690      1     0.177877   62.822408  \n",
       "449  0.131182  0.205203      1     0.122809   31.283085  \n",
       "\n",
       "[258 rows x 46 columns]"
      ]
     },
     "metadata": {},
     "output_type": "display_data"
    },
    {
     "data": {
      "text/plain": [
       "192    273.107147\n",
       "193    285.040222\n",
       "194    227.287155\n",
       "195    222.218002\n",
       "196    238.195923\n",
       "          ...    \n",
       "445    297.064484\n",
       "446    242.214417\n",
       "447    219.699570\n",
       "448    249.672058\n",
       "449    286.320862\n",
       "Name: price, Length: 258, dtype: float64"
      ]
     },
     "metadata": {},
     "output_type": "display_data"
    }
   ],
   "source": [
    "print('variance =',model_sm.mse_resid)\n",
    "display(df_men)\n",
    "display(df_men.price)"
   ]
  },
  {
   "cell_type": "markdown",
   "metadata": {},
   "source": [
    "**Your answer:**"
   ]
  },
  {
   "cell_type": "markdown",
   "metadata": {},
   "source": []
  },
  {
   "cell_type": "markdown",
   "metadata": {},
   "source": [
    "### Exercise 2: Illustrate the estimated Engel curve"
   ]
  },
  {
   "cell_type": "markdown",
   "metadata": {},
   "source": [
    "**Task 1:** Illustrate the estimated Engel curve in a graph together with a scatterplot of the actual data observations. \n",
    "\n",
    "_Hints:_ To plot the estimated Engel curve, you need the $\\hat{y}$ values (your estimated xfath values) for each of the observed $x$-values (the xtot values) in the dataset. When plotted together, these $\\hat{y}$ values form the line estimated by OLS.\n",
    "\n",
    "If your OLS results object is called `results` and your observations of xtot are called `X`, you can extract the $\\hat{y}$ values like this:\n",
    "\n",
    "```py\n",
    "y_hat = results.predict(X)\n",
    "```\n",
    "\n",
    "To do a lineplot in Seaborn, use the `sns.lineplot(x, y, data)` method.\n",
    "\n",
    "To layer two plots on top of each other, simply execute two Seaborn commands after one another in a single cell."
   ]
  },
  {
   "cell_type": "markdown",
   "metadata": {},
   "source": [
    "**Your code:**"
   ]
  },
  {
   "cell_type": "code",
   "execution_count": 29,
   "metadata": {},
   "outputs": [
    {
     "data": {
      "text/plain": [
       "<Axes: xlabel='xtot', ylabel='None'>"
      ]
     },
     "execution_count": 29,
     "metadata": {},
     "output_type": "execute_result"
    },
    {
     "data": {
      "image/png": "[encoded data removed]",
      "text/plain": [
       "<Figure size 640x480 with 1 Axes>"
      ]
     },
     "metadata": {},
     "output_type": "display_data"
    }
   ],
   "source": [
    "y_hat = model_sm.predict(X)\n",
    "y_hat\n",
    "\n",
    "import seaborn as sns\n",
    "sns.lineplot(x='xtot',y=y_hat,data=df_men,color='red')\n",
    "sns.scatterplot(x='xtot',y='xfath',data=df_men)\n",
    "\n",
    "\n"
   ]
  },
  {
   "cell_type": "code",
   "execution_count": 77,
   "metadata": {},
   "outputs": [
    {
     "data": {
      "text/html": [
       "<div>\n",
       "<style scoped>\n",
       "    .dataframe tbody tr th:only-of-type {\n",
       "        vertical-align: middle;\n",
       "    }\n",
       "\n",
       "    .dataframe tbody tr th {\n",
       "        vertical-align: top;\n",
       "    }\n",
       "\n",
       "    .dataframe thead th {\n",
       "        text-align: right;\n",
       "    }\n",
       "</style>\n",
       "<table border=\"1\" class=\"dataframe\">\n",
       "  <thead>\n",
       "    <tr style=\"text-align: right;\">\n",
       "      <th></th>\n",
       "      <th>year</th>\n",
       "      <th>province</th>\n",
       "      <th>hgy</th>\n",
       "      <th>hage</th>\n",
       "      <th>nety</th>\n",
       "      <th>xfath</th>\n",
       "      <th>xrest</th>\n",
       "      <th>xhhop</th>\n",
       "      <th>xwcloth</th>\n",
       "      <th>xmcloth</th>\n",
       "      <th>...</th>\n",
       "      <th>price</th>\n",
       "      <th>rxtot</th>\n",
       "      <th>xtot</th>\n",
       "      <th>wfath</th>\n",
       "      <th>wwcloth</th>\n",
       "      <th>wmcloth</th>\n",
       "      <th>walc</th>\n",
       "      <th>const</th>\n",
       "      <th>xwclothshare</th>\n",
       "      <th>xtotprice</th>\n",
       "    </tr>\n",
       "  </thead>\n",
       "  <tbody>\n",
       "    <tr>\n",
       "      <th>0</th>\n",
       "      <td>92.0</td>\n",
       "      <td>5.0</td>\n",
       "      <td>18795.0</td>\n",
       "      <td>35.0</td>\n",
       "      <td>16901.0</td>\n",
       "      <td>1510.0</td>\n",
       "      <td>526.0</td>\n",
       "      <td>1200.0</td>\n",
       "      <td>1066.0</td>\n",
       "      <td>0.0</td>\n",
       "      <td>...</td>\n",
       "      <td>242.639587</td>\n",
       "      <td>37.038475</td>\n",
       "      <td>8987.0</td>\n",
       "      <td>0.168020</td>\n",
       "      <td>0.118616</td>\n",
       "      <td>0.0</td>\n",
       "      <td>0.007789</td>\n",
       "      <td>1</td>\n",
       "      <td>0.118616</td>\n",
       "      <td>3.611957</td>\n",
       "    </tr>\n",
       "    <tr>\n",
       "      <th>1</th>\n",
       "      <td>92.0</td>\n",
       "      <td>2.0</td>\n",
       "      <td>36000.0</td>\n",
       "      <td>34.0</td>\n",
       "      <td>26350.0</td>\n",
       "      <td>2680.0</td>\n",
       "      <td>260.0</td>\n",
       "      <td>1734.0</td>\n",
       "      <td>842.0</td>\n",
       "      <td>0.0</td>\n",
       "      <td>...</td>\n",
       "      <td>234.208679</td>\n",
       "      <td>48.947803</td>\n",
       "      <td>11464.0</td>\n",
       "      <td>0.233775</td>\n",
       "      <td>0.073447</td>\n",
       "      <td>0.0</td>\n",
       "      <td>0.004361</td>\n",
       "      <td>1</td>\n",
       "      <td>0.073447</td>\n",
       "      <td>3.890754</td>\n",
       "    </tr>\n",
       "    <tr>\n",
       "      <th>2</th>\n",
       "      <td>92.0</td>\n",
       "      <td>4.0</td>\n",
       "      <td>29288.0</td>\n",
       "      <td>39.0</td>\n",
       "      <td>20346.0</td>\n",
       "      <td>1820.0</td>\n",
       "      <td>50.0</td>\n",
       "      <td>647.0</td>\n",
       "      <td>2270.0</td>\n",
       "      <td>0.0</td>\n",
       "      <td>...</td>\n",
       "      <td>271.528290</td>\n",
       "      <td>39.590717</td>\n",
       "      <td>10750.0</td>\n",
       "      <td>0.169302</td>\n",
       "      <td>0.211163</td>\n",
       "      <td>0.0</td>\n",
       "      <td>0.025581</td>\n",
       "      <td>1</td>\n",
       "      <td>0.211163</td>\n",
       "      <td>3.678595</td>\n",
       "    </tr>\n",
       "    <tr>\n",
       "      <th>3</th>\n",
       "      <td>92.0</td>\n",
       "      <td>4.0</td>\n",
       "      <td>29225.0</td>\n",
       "      <td>28.0</td>\n",
       "      <td>24005.0</td>\n",
       "      <td>1440.0</td>\n",
       "      <td>1986.0</td>\n",
       "      <td>4186.0</td>\n",
       "      <td>2125.0</td>\n",
       "      <td>0.0</td>\n",
       "      <td>...</td>\n",
       "      <td>214.876373</td>\n",
       "      <td>73.349152</td>\n",
       "      <td>15761.0</td>\n",
       "      <td>0.091365</td>\n",
       "      <td>0.134826</td>\n",
       "      <td>0.0</td>\n",
       "      <td>0.000508</td>\n",
       "      <td>1</td>\n",
       "      <td>0.134826</td>\n",
       "      <td>4.295231</td>\n",
       "    </tr>\n",
       "    <tr>\n",
       "      <th>4</th>\n",
       "      <td>92.0</td>\n",
       "      <td>4.0</td>\n",
       "      <td>29300.0</td>\n",
       "      <td>27.0</td>\n",
       "      <td>22118.0</td>\n",
       "      <td>3100.0</td>\n",
       "      <td>515.0</td>\n",
       "      <td>1041.0</td>\n",
       "      <td>769.0</td>\n",
       "      <td>0.0</td>\n",
       "      <td>...</td>\n",
       "      <td>216.443039</td>\n",
       "      <td>45.526989</td>\n",
       "      <td>9854.0</td>\n",
       "      <td>0.314593</td>\n",
       "      <td>0.078039</td>\n",
       "      <td>0.0</td>\n",
       "      <td>0.020296</td>\n",
       "      <td>1</td>\n",
       "      <td>0.078039</td>\n",
       "      <td>3.818305</td>\n",
       "    </tr>\n",
       "    <tr>\n",
       "      <th>...</th>\n",
       "      <td>...</td>\n",
       "      <td>...</td>\n",
       "      <td>...</td>\n",
       "      <td>...</td>\n",
       "      <td>...</td>\n",
       "      <td>...</td>\n",
       "      <td>...</td>\n",
       "      <td>...</td>\n",
       "      <td>...</td>\n",
       "      <td>...</td>\n",
       "      <td>...</td>\n",
       "      <td>...</td>\n",
       "      <td>...</td>\n",
       "      <td>...</td>\n",
       "      <td>...</td>\n",
       "      <td>...</td>\n",
       "      <td>...</td>\n",
       "      <td>...</td>\n",
       "      <td>...</td>\n",
       "      <td>...</td>\n",
       "      <td>...</td>\n",
       "    </tr>\n",
       "    <tr>\n",
       "      <th>187</th>\n",
       "      <td>92.0</td>\n",
       "      <td>4.0</td>\n",
       "      <td>30505.0</td>\n",
       "      <td>38.0</td>\n",
       "      <td>24380.0</td>\n",
       "      <td>1200.0</td>\n",
       "      <td>880.0</td>\n",
       "      <td>1046.0</td>\n",
       "      <td>2488.0</td>\n",
       "      <td>0.0</td>\n",
       "      <td>...</td>\n",
       "      <td>221.549011</td>\n",
       "      <td>50.485443</td>\n",
       "      <td>11185.0</td>\n",
       "      <td>0.107287</td>\n",
       "      <td>0.222441</td>\n",
       "      <td>0.0</td>\n",
       "      <td>0.044345</td>\n",
       "      <td>1</td>\n",
       "      <td>0.222441</td>\n",
       "      <td>3.921685</td>\n",
       "    </tr>\n",
       "    <tr>\n",
       "      <th>188</th>\n",
       "      <td>92.0</td>\n",
       "      <td>3.0</td>\n",
       "      <td>14890.0</td>\n",
       "      <td>24.0</td>\n",
       "      <td>12850.0</td>\n",
       "      <td>1920.0</td>\n",
       "      <td>1680.0</td>\n",
       "      <td>1698.0</td>\n",
       "      <td>1240.0</td>\n",
       "      <td>0.0</td>\n",
       "      <td>...</td>\n",
       "      <td>258.438660</td>\n",
       "      <td>37.753639</td>\n",
       "      <td>9757.0</td>\n",
       "      <td>0.196782</td>\n",
       "      <td>0.127088</td>\n",
       "      <td>0.0</td>\n",
       "      <td>0.012299</td>\n",
       "      <td>1</td>\n",
       "      <td>0.127088</td>\n",
       "      <td>3.631082</td>\n",
       "    </tr>\n",
       "    <tr>\n",
       "      <th>189</th>\n",
       "      <td>92.0</td>\n",
       "      <td>3.0</td>\n",
       "      <td>65623.0</td>\n",
       "      <td>38.0</td>\n",
       "      <td>47678.0</td>\n",
       "      <td>2600.0</td>\n",
       "      <td>1900.0</td>\n",
       "      <td>1417.0</td>\n",
       "      <td>3000.0</td>\n",
       "      <td>0.0</td>\n",
       "      <td>...</td>\n",
       "      <td>243.305298</td>\n",
       "      <td>72.032959</td>\n",
       "      <td>17526.0</td>\n",
       "      <td>0.148351</td>\n",
       "      <td>0.171174</td>\n",
       "      <td>0.0</td>\n",
       "      <td>0.039655</td>\n",
       "      <td>1</td>\n",
       "      <td>0.171174</td>\n",
       "      <td>4.277124</td>\n",
       "    </tr>\n",
       "    <tr>\n",
       "      <th>190</th>\n",
       "      <td>92.0</td>\n",
       "      <td>1.0</td>\n",
       "      <td>45200.0</td>\n",
       "      <td>30.0</td>\n",
       "      <td>33912.0</td>\n",
       "      <td>2095.0</td>\n",
       "      <td>1075.0</td>\n",
       "      <td>1455.0</td>\n",
       "      <td>360.0</td>\n",
       "      <td>0.0</td>\n",
       "      <td>...</td>\n",
       "      <td>223.388336</td>\n",
       "      <td>40.857101</td>\n",
       "      <td>9127.0</td>\n",
       "      <td>0.229539</td>\n",
       "      <td>0.039443</td>\n",
       "      <td>0.0</td>\n",
       "      <td>0.016435</td>\n",
       "      <td>1</td>\n",
       "      <td>0.039443</td>\n",
       "      <td>3.710081</td>\n",
       "    </tr>\n",
       "    <tr>\n",
       "      <th>191</th>\n",
       "      <td>92.0</td>\n",
       "      <td>4.0</td>\n",
       "      <td>42126.0</td>\n",
       "      <td>34.0</td>\n",
       "      <td>32469.0</td>\n",
       "      <td>2660.0</td>\n",
       "      <td>240.0</td>\n",
       "      <td>1337.0</td>\n",
       "      <td>5760.0</td>\n",
       "      <td>0.0</td>\n",
       "      <td>...</td>\n",
       "      <td>217.054169</td>\n",
       "      <td>79.791145</td>\n",
       "      <td>17319.0</td>\n",
       "      <td>0.153589</td>\n",
       "      <td>0.332583</td>\n",
       "      <td>0.0</td>\n",
       "      <td>0.068018</td>\n",
       "      <td>1</td>\n",
       "      <td>0.332583</td>\n",
       "      <td>4.379412</td>\n",
       "    </tr>\n",
       "  </tbody>\n",
       "</table>\n",
       "<p>192 rows × 46 columns</p>\n",
       "</div>"
      ],
      "text/plain": [
       "     year  province      hgy  hage     nety   xfath   xrest   xhhop  xwcloth  \\\n",
       "0    92.0       5.0  18795.0  35.0  16901.0  1510.0   526.0  1200.0   1066.0   \n",
       "1    92.0       2.0  36000.0  34.0  26350.0  2680.0   260.0  1734.0    842.0   \n",
       "2    92.0       4.0  29288.0  39.0  20346.0  1820.0    50.0   647.0   2270.0   \n",
       "3    92.0       4.0  29225.0  28.0  24005.0  1440.0  1986.0  4186.0   2125.0   \n",
       "4    92.0       4.0  29300.0  27.0  22118.0  3100.0   515.0  1041.0    769.0   \n",
       "..    ...       ...      ...   ...      ...     ...     ...     ...      ...   \n",
       "187  92.0       4.0  30505.0  38.0  24380.0  1200.0   880.0  1046.0   2488.0   \n",
       "188  92.0       3.0  14890.0  24.0  12850.0  1920.0  1680.0  1698.0   1240.0   \n",
       "189  92.0       3.0  65623.0  38.0  47678.0  2600.0  1900.0  1417.0   3000.0   \n",
       "190  92.0       1.0  45200.0  30.0  33912.0  2095.0  1075.0  1455.0    360.0   \n",
       "191  92.0       4.0  42126.0  34.0  32469.0  2660.0   240.0  1337.0   5760.0   \n",
       "\n",
       "     xmcloth  ...       price      rxtot     xtot     wfath   wwcloth  \\\n",
       "0        0.0  ...  242.639587  37.038475   8987.0  0.168020  0.118616   \n",
       "1        0.0  ...  234.208679  48.947803  11464.0  0.233775  0.073447   \n",
       "2        0.0  ...  271.528290  39.590717  10750.0  0.169302  0.211163   \n",
       "3        0.0  ...  214.876373  73.349152  15761.0  0.091365  0.134826   \n",
       "4        0.0  ...  216.443039  45.526989   9854.0  0.314593  0.078039   \n",
       "..       ...  ...         ...        ...      ...       ...       ...   \n",
       "187      0.0  ...  221.549011  50.485443  11185.0  0.107287  0.222441   \n",
       "188      0.0  ...  258.438660  37.753639   9757.0  0.196782  0.127088   \n",
       "189      0.0  ...  243.305298  72.032959  17526.0  0.148351  0.171174   \n",
       "190      0.0  ...  223.388336  40.857101   9127.0  0.229539  0.039443   \n",
       "191      0.0  ...  217.054169  79.791145  17319.0  0.153589  0.332583   \n",
       "\n",
       "     wmcloth      walc  const  xwclothshare  xtotprice  \n",
       "0        0.0  0.007789      1      0.118616   3.611957  \n",
       "1        0.0  0.004361      1      0.073447   3.890754  \n",
       "2        0.0  0.025581      1      0.211163   3.678595  \n",
       "3        0.0  0.000508      1      0.134826   4.295231  \n",
       "4        0.0  0.020296      1      0.078039   3.818305  \n",
       "..       ...       ...    ...           ...        ...  \n",
       "187      0.0  0.044345      1      0.222441   3.921685  \n",
       "188      0.0  0.012299      1      0.127088   3.631082  \n",
       "189      0.0  0.039655      1      0.171174   4.277124  \n",
       "190      0.0  0.016435      1      0.039443   3.710081  \n",
       "191      0.0  0.068018      1      0.332583   4.379412  \n",
       "\n",
       "[192 rows x 46 columns]"
      ]
     },
     "metadata": {},
     "output_type": "display_data"
    }
   ],
   "source": [
    "df_men['xfathshare']= df_men.xfath / df_men.xtot\n",
    "display(df_women)"
   ]
  },
  {
   "cell_type": "markdown",
   "metadata": {},
   "source": [
    "**Task 2:** Perform scatterplots of the residuals from the regression against xtot and the predicted value of food consumption, separately.What shall you expect given the assumptions presented in the lectures? Should you expect the total expediture to correlate with the residuals? \n",
    "\n",
    "_Hint:_\n",
    "You can access the residuals using the `.resid` property of your results object.\n",
    "\n",
    "_Pro tip:_ You can manually change the labels of the y- and x-axis of Seaborn plots by adding `.set(ylabel=\"Residuals\", xlabel=\"xtot\")` to the end of your plot command"
   ]
  },
  {
   "cell_type": "markdown",
   "metadata": {},
   "source": [
    "**Your code:**"
   ]
  },
  {
   "cell_type": "code",
   "execution_count": 62,
   "metadata": {},
   "outputs": [
    {
     "data": {
      "text/plain": [
       "[Text(0, 0.5, 'Residuals'), Text(0.5, 0, 'xtot')]"
      ]
     },
     "execution_count": 62,
     "metadata": {},
     "output_type": "execute_result"
    },
    {
     "data": {
      "image/png": "[encoded data removed]",
      "text/plain": [
       "<Figure size 640x480 with 1 Axes>"
      ]
     },
     "metadata": {},
     "output_type": "display_data"
    }
   ],
   "source": [
    "#Task 2a \n",
    "model_sm.resid\n",
    "sns.scatterplot(x='xtot',y=model_sm.resid,data=df_men).set(ylabel=\"Residuals\", xlabel=\"xtot\")"
   ]
  },
  {
   "cell_type": "code",
   "execution_count": 64,
   "metadata": {},
   "outputs": [
    {
     "name": "stdout",
     "output_type": "stream",
     "text": [
      "                            OLS Regression Results                            \n",
      "==============================================================================\n",
      "Dep. Variable:             xfathshare   R-squared:                       0.217\n",
      "Model:                            OLS   Adj. R-squared:                  0.214\n",
      "Method:                 Least Squares   F-statistic:                     70.78\n",
      "Date:                Tue, 10 Sep 2024   Prob (F-statistic):           2.84e-15\n",
      "Time:                        16:17:51   Log-Likelihood:                 269.87\n",
      "No. Observations:                 258   AIC:                            -535.7\n",
      "Df Residuals:                     256   BIC:                            -528.6\n",
      "Df Model:                           1                                         \n",
      "Covariance Type:            nonrobust                                         \n",
      "==============================================================================\n",
      "                 coef    std err          t      P>|t|      [0.025      0.975]\n",
      "------------------------------------------------------------------------------\n",
      "const          0.6330      0.055     11.460      0.000       0.524       0.742\n",
      "xtotprice     -0.1171      0.014     -8.413      0.000      -0.144      -0.090\n",
      "==============================================================================\n",
      "Omnibus:                       38.065   Durbin-Watson:                   1.900\n",
      "Prob(Omnibus):                  0.000   Jarque-Bera (JB):               52.467\n",
      "Skew:                           0.944   Prob(JB):                     4.04e-12\n",
      "Kurtosis:                       4.147   Cond. No.                         43.9\n",
      "==============================================================================\n",
      "\n",
      "Notes:\n",
      "[1] Standard Errors assume that the covariance matrix of the errors is correctly specified.\n"
     ]
    },
    {
     "name": "stderr",
     "output_type": "stream",
     "text": [
      "/var/folders/qc/x5b6j81j2_z95401mrqcyhbc0000gn/T/ipykernel_18967/2263654051.py:4: SettingWithCopyWarning: \n",
      "A value is trying to be set on a copy of a slice from a DataFrame.\n",
      "Try using .loc[row_indexer,col_indexer] = value instead\n",
      "\n",
      "See the caveats in the documentation: https://pandas.pydata.org/pandas-docs/stable/user_guide/indexing.html#returning-a-view-versus-a-copy\n",
      "  df_men['xtotprice']=np.log(df_men.xtot / df_men.price)\n"
     ]
    },
    {
     "data": {
      "text/plain": [
       "[Text(0, 0.5, 'Residuals'), Text(0.5, 0, 'xtotprice')]"
      ]
     },
     "execution_count": 64,
     "metadata": {},
     "output_type": "execute_result"
    },
    {
     "data": {
      "image/png": "[encoded data removed]",
      "text/plain": [
       "<Figure size 640x480 with 1 Axes>"
      ]
     },
     "metadata": {},
     "output_type": "display_data"
    }
   ],
   "source": [
    "# Task 2b\n",
    "import math as m\n",
    "import numpy as np\n",
    "df_men['xtotprice']=np.log(df_men.xtot / df_men.price)\n",
    "#display(df_men.xtotprice)\n",
    "\n",
    "model_sm2 = sm.OLS(df_men['xfathshare'], df_men[['const','xtotprice']]).fit()\n",
    "print(model_sm2.summary())\n",
    "X2 = df_men[['const','xtotprice']]\n",
    "\n",
    "sns.scatterplot(x='xtotprice',y=model_sm2.resid,data=df_men).set(ylabel=\"Residuals\", xlabel=\"xtotprice\")\n",
    "\n"
   ]
  },
  {
   "cell_type": "markdown",
   "metadata": {},
   "source": [
    "Remember the mechanical properties of the OLS estimator: The residuals sum to zero, $E(u)=0$, and are always uncorrelated with the explanatory variables, $E(x|u)=0$"
   ]
  },
  {
   "cell_type": "markdown",
   "metadata": {},
   "source": [
    "### Exercise 2: Estimate model (2)\n",
    "\n",
    "In this exercise, we are going to estimate model (2) for men and women individually:\n",
    "\\begin{align}\n",
    "\\frac{\\text{xfath}_i}{\\text{xtot}_i} = \\delta_0 + \\delta_1 \\log \\left(\\frac{\\text{xtot}_i}{\\text{price}_i}\n",
    "\\right) + v_i \\tag{2}\n",
    "\\end{align}\n"
   ]
  },
  {
   "cell_type": "markdown",
   "metadata": {},
   "source": [
    "**Task 1:** Construct the variables needed to estimate model (2). \n",
    "\n",
    "_Hint:_ The $\\text{price}_i$ variable is included in the dataset under the name `price`.\n"
   ]
  },
  {
   "cell_type": "markdown",
   "metadata": {},
   "source": [
    "**Your code:**"
   ]
  },
  {
   "cell_type": "markdown",
   "metadata": {},
   "source": [
    "Gjort i ovenstående opgave"
   ]
  },
  {
   "cell_type": "markdown",
   "metadata": {},
   "source": [
    "**Task 2:** Estimate model (2) by OLS for the budget shares of food, clothing and alcohol for men and women, separately. For each gender and each of the three expenditure categories, print the estimated slope parameters. \n",
    "\n",
    "_Hint_: Write a nested for-loop where you estimate the model and print the parameter estimate for each of the genders and and each of the three dependant variables. \n",
    "\n",
    "To access the individual model parameters, you can use the `.params` property of the results object. For example, if you have an explanatory variable called `log_xtot_adj`, you can access the parameter estimate like this:\n",
    "\n",
    "\n",
    "```py\n",
    "model = sm.OLS(y, X)\n",
    "results = models.fit()\n",
    "delta1 = results.params['log_xtot_adj']\n",
    "```"
   ]
  },
  {
   "cell_type": "markdown",
   "metadata": {},
   "source": [
    "**Your code:**"
   ]
  },
  {
   "cell_type": "code",
   "execution_count": 2,
   "metadata": {},
   "outputs": [
    {
     "name": "stderr",
     "output_type": "stream",
     "text": [
      "/var/folders/qc/x5b6j81j2_z95401mrqcyhbc0000gn/T/ipykernel_3886/1574150550.py:7: SettingWithCopyWarning: \n",
      "A value is trying to be set on a copy of a slice from a DataFrame.\n",
      "Try using .loc[row_indexer,col_indexer] = value instead\n",
      "\n",
      "See the caveats in the documentation: https://pandas.pydata.org/pandas-docs/stable/user_guide/indexing.html#returning-a-view-versus-a-copy\n",
      "  df_women[\"const\"]=1\n",
      "/var/folders/qc/x5b6j81j2_z95401mrqcyhbc0000gn/T/ipykernel_3886/1574150550.py:9: SettingWithCopyWarning: \n",
      "A value is trying to be set on a copy of a slice from a DataFrame.\n",
      "Try using .loc[row_indexer,col_indexer] = value instead\n",
      "\n",
      "See the caveats in the documentation: https://pandas.pydata.org/pandas-docs/stable/user_guide/indexing.html#returning-a-view-versus-a-copy\n",
      "  df_women['xwclothshare']= df_women.xwcloth / df_women.xtot\n",
      "/var/folders/qc/x5b6j81j2_z95401mrqcyhbc0000gn/T/ipykernel_3886/1574150550.py:10: SettingWithCopyWarning: \n",
      "A value is trying to be set on a copy of a slice from a DataFrame.\n",
      "Try using .loc[row_indexer,col_indexer] = value instead\n",
      "\n",
      "See the caveats in the documentation: https://pandas.pydata.org/pandas-docs/stable/user_guide/indexing.html#returning-a-view-versus-a-copy\n",
      "  df_women['xalcshare']=df_women.xalc / df_women.xtot\n",
      "/var/folders/qc/x5b6j81j2_z95401mrqcyhbc0000gn/T/ipykernel_3886/1574150550.py:11: SettingWithCopyWarning: \n",
      "A value is trying to be set on a copy of a slice from a DataFrame.\n",
      "Try using .loc[row_indexer,col_indexer] = value instead\n",
      "\n",
      "See the caveats in the documentation: https://pandas.pydata.org/pandas-docs/stable/user_guide/indexing.html#returning-a-view-versus-a-copy\n",
      "  df_women['xtotprice']=np.log(df_women.xtot / df_women.price)\n"
     ]
    },
    {
     "ename": "NameError",
     "evalue": "name 'sm' is not defined",
     "output_type": "error",
     "traceback": [
      "\u001b[0;31m---------------------------------------------------------------------------\u001b[0m",
      "\u001b[0;31mNameError\u001b[0m                                 Traceback (most recent call last)",
      "Cell \u001b[0;32mIn[2], line 14\u001b[0m\n\u001b[1;32m     11\u001b[0m df_women[\u001b[38;5;124m'\u001b[39m\u001b[38;5;124mxtotprice\u001b[39m\u001b[38;5;124m'\u001b[39m]\u001b[38;5;241m=\u001b[39mnp\u001b[38;5;241m.\u001b[39mlog(df_women\u001b[38;5;241m.\u001b[39mxtot \u001b[38;5;241m/\u001b[39m df_women\u001b[38;5;241m.\u001b[39mprice)\n\u001b[1;32m     12\u001b[0m \u001b[38;5;28mvars\u001b[39m \u001b[38;5;241m=\u001b[39m [\u001b[38;5;124m'\u001b[39m\u001b[38;5;124mxwclothshare\u001b[39m\u001b[38;5;124m'\u001b[39m,\u001b[38;5;124m'\u001b[39m\u001b[38;5;124mxalcshare\u001b[39m\u001b[38;5;124m'\u001b[39m,\u001b[38;5;124m'\u001b[39m\u001b[38;5;124mxshare\u001b[39m\u001b[38;5;124m'\u001b[39m]\n\u001b[0;32m---> 14\u001b[0m model_smw \u001b[38;5;241m=\u001b[39m sm\u001b[38;5;241m.\u001b[39mOLS(df_women[\u001b[38;5;124m'\u001b[39m\u001b[38;5;124mxwclothshare\u001b[39m\u001b[38;5;124m'\u001b[39m], df_women[[\u001b[38;5;124m'\u001b[39m\u001b[38;5;124mconst\u001b[39m\u001b[38;5;124m'\u001b[39m,\u001b[38;5;124m'\u001b[39m\u001b[38;5;124mxtotprice\u001b[39m\u001b[38;5;124m'\u001b[39m]])\u001b[38;5;241m.\u001b[39mfit()\n\u001b[1;32m     15\u001b[0m \u001b[38;5;28mprint\u001b[39m(model_smw\u001b[38;5;241m.\u001b[39msummary())\n\u001b[1;32m     16\u001b[0m \u001b[38;5;28mprint\u001b[39m(model_smw\u001b[38;5;241m.\u001b[39msummary()\u001b[38;5;241m.\u001b[39mas_latex())\n",
      "\u001b[0;31mNameError\u001b[0m: name 'sm' is not defined"
     ]
    }
   ],
   "source": [
    "import pandas as pd\n",
    "import numpy as np\n",
    "\n",
    "df = pd.read_stata('PS2.dta')\n",
    "df_women = df[df.dmale == 0]\n",
    "#print(df_women)\n",
    "df_women[\"const\"]=1\n",
    "\n",
    "df_women['xwclothshare']= df_women.xwcloth / df_women.xtot\n",
    "df_women['xalcshare']=df_women.xalc / df_women.xtot\n",
    "df_women['xtotprice']=np.log(df_women.xtot / df_women.price)\n",
    "vars = ['xwclothshare','xalcshare','xshare']\n",
    "\n",
    "model_smw = sm.OLS(df_women['xwclothshare'], df_women[['const','xtotprice']]).fit()\n",
    "print(model_smw.summary())\n",
    "print(model_smw.summary().as_latex())"
   ]
  },
  {
   "cell_type": "markdown",
   "metadata": {},
   "source": [
    "**Task 3:** Interpret the estimation results in light of the discussion on luxury versus necessity goods (see group work). Which parameter is central to the analysis? What conclusions can be drawn on the basis of the analysis?"
   ]
  },
  {
   "cell_type": "markdown",
   "metadata": {},
   "source": [
    "**Your answer:**"
   ]
  },
  {
   "cell_type": "markdown",
   "metadata": {},
   "source": []
  },
  {
   "cell_type": "markdown",
   "metadata": {},
   "source": [
    "## Theoretical exercise\n",
    "Solve the following theoretical exercises (using pen and paper). Estimated time for the exam is 30\n",
    "minutes.\n",
    "\n",
    "**Task 1:**\n",
    "Write up the simple linear regression model (SLR) with a constant term and 1\n",
    "explanatory variable in matrix form for $n$ observations."
   ]
  },
  {
   "cell_type": "markdown",
   "metadata": {},
   "source": [
    "**Task 2:** Write the OLS estimator in matrix form. Show that when one\n",
    "calculates the OLS estimator, then: \n",
    "\\begin{equation*}\n",
    "\\widehat{\\beta }_{0}=\\bar{y}-\\frac{\\sum_{i=1}^{n}(x_{i}-\\bar{x})(y_{i}-\\bar{y%\n",
    "})}{\\sum_{i=1}^{n}(x_{i}-\\bar{x})^{2}}\\bar{x},\\qquad \\widehat{\\beta }_{1}=%\n",
    "\\frac{\\sum_{i=1}^{n}(x_{i}-\\bar{x})(y_{i}-\\bar{y})}{\\sum_{i=1}^{n}(x_{i}-%\n",
    "\\bar{x})^{2}}\n",
    "\\end{equation*}%\n",
    "where $\\bar{x}=\\frac{1}{n}\\sum_{i=1}^{n}x_{i}$ and $\\bar{y}=\\frac{1}{n}%\n",
    "\\sum_{i=1}^{n}y_{i}$.\n",
    "\n",
    "_Hints_: Use the following rule for inverting a matrix: \n",
    "\\begin{equation*}\n",
    "\\left[ \n",
    "\\begin{array}{cc}\n",
    "a & b \\\\ \n",
    "c & d%\n",
    "\\end{array}%\n",
    "\\right] ^{-1}=\\frac{1}{ad-bc}\\left[ \n",
    "\\begin{array}{cc}\n",
    "d & -b \\\\ \n",
    "-c & a%\n",
    "\\end{array}%\n",
    "\\right]\n",
    "\\end{equation*}\n",
    "as well rules (A.7) and (A.8) in Math Refresher A in the textbook.\n"
   ]
  }
 ],
 "metadata": {
  "kernelspec": {
   "display_name": "Python 3 (ipykernel)",
   "language": "python",
   "name": "python3"
  },
  "language_info": {
   "codemirror_mode": {
    "name": "ipython",
    "version": 3
   },
   "file_extension": ".py",
   "mimetype": "text/x-python",
   "name": "python",
   "nbconvert_exporter": "python",
   "pygments_lexer": "ipython3",
   "version": "3.12.2"
  }
 },
 "nbformat": 4,
 "nbformat_minor": 2
}
